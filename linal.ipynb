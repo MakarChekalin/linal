{
  "nbformat": 4,
  "nbformat_minor": 0,
  "metadata": {
    "colab": {
      "provenance": []
    },
    "kernelspec": {
      "name": "python3",
      "display_name": "Python 3"
    },
    "language_info": {
      "name": "python"
    }
  },
  "cells": [
    {
      "cell_type": "markdown",
      "source": [
        "Практическая часть"
      ],
      "metadata": {
        "id": "_QccbVvYmpRv"
      }
    },
    {
      "cell_type": "code",
      "source": [
        "from typing import List, Tuple\n",
        "import math\n",
        "import random\n",
        "import matplotlib.pyplot as plt\n",
        "from matplotlib.figure import Figure\n",
        "import csv"
      ],
      "metadata": {
        "id": "gedeEclNqAxJ"
      },
      "execution_count": 159,
      "outputs": []
    },
    {
      "cell_type": "markdown",
      "source": [
        "Сделаем класс матриц(добавил пару методов к старой лабе)"
      ],
      "metadata": {
        "id": "g6vkLz5uvXXC"
      }
    },
    {
      "cell_type": "code",
      "source": [
        "class Matrix:\n",
        "\n",
        "    def __init__(self, data): #создание\n",
        "        if not all(len(row) == len(data[0]) for row in data):\n",
        "            raise ValueError(\"строки должны быть одинаковой длины\")\n",
        "        self.data = data\n",
        "        self.rows = len(data)\n",
        "        self.cols = len(data[0]) if self.rows > 0 else 0\n",
        "\n",
        "\n",
        "    def __getitem__(self, indices):\n",
        "        i, j = indices\n",
        "        return self.data[i][j]\n",
        "\n",
        "\n",
        "    def add(self, other): #сложение\n",
        "        if self.rows != other.rows or self.cols != other.cols:\n",
        "            raise ValueError(\"разный размер матриц\")\n",
        "        result = [[self.data[i][j] + other.data[i][j] for j in range(self.cols)]for i in range(self.rows)]\n",
        "        return Matrix(result)\n",
        "\n",
        "\n",
        "    def __sub__(self, other): # a - b\n",
        "        if self.rows != other.rows or self.cols != other.cols:\n",
        "            raise ValueError(\"разные матрицы\")\n",
        "        result = [\n",
        "            [self.data[i][j] - other.data[i][j] for j in range(self.cols)]\n",
        "            for i in range(self.rows)\n",
        "        ]\n",
        "        return Matrix(result)\n",
        "\n",
        "\n",
        "    def __mul__(self, sc): # умножаем на сколяр\n",
        "        return Matrix([\n",
        "            [elem * sc for elem in row]\n",
        "            for row in self.data\n",
        "        ])\n",
        "\n",
        "\n",
        "    def __matmul__(self, other): #умножение @\n",
        "        if self.cols != other.rows:\n",
        "            raise ValueError(\"ошибка\")\n",
        "        result = [[sum(a * b for a, b in zip(self.get_row(i), other.get_col(j)))for j in range(other.cols)]for i in range(self.rows)]\n",
        "        return Matrix(result)\n",
        "\n",
        "\n",
        "    def trans(self): #транс\n",
        "        return Matrix([list(col) for col in zip(*self.data)])\n",
        "\n",
        "\n",
        "    def minor(self, row, col): #минор\n",
        "        if self.rows != self.cols:\n",
        "            raise ValueError(\"матрица не квадратная\")\n",
        "        new_data = [\n",
        "            r[:col] + r[col + 1:]\n",
        "            for i, r in enumerate(self.data)\n",
        "            if i != row\n",
        "        ]\n",
        "        return Matrix(new_data)\n",
        "\n",
        "\n",
        "    def det_g(self):  # вычисление детерминанта по Гауссу\n",
        "      if self.rows != self.cols:\n",
        "          raise ValueError(\"матрица не квадратная\")\n",
        "\n",
        "      new_mat = [row.copy() for row in self.data]\n",
        "      n = self.rows\n",
        "      det = 1.0\n",
        "\n",
        "      for i in range(n):\n",
        "        pivot_row = max(range(i, n), key=lambda x: abs(new_mat[x][i]))\n",
        "        if abs(new_mat[pivot_row][i]) < 1e-100:\n",
        "            return 0.0\n",
        "\n",
        "        if pivot_row != i:\n",
        "            new_mat[i], new_mat[pivot_row] = new_mat[pivot_row], new_mat[i]\n",
        "            det *= -1\n",
        "\n",
        "        det *= new_mat[i][i]\n",
        "        for j in range(i + 1, n):\n",
        "            factor = new_mat[j][i] / new_mat[i][i]\n",
        "            for k in range(i, n):\n",
        "                new_mat[j][k] -= factor * new_mat[i][k]\n",
        "\n",
        "      return det\n",
        "\n",
        "\n",
        "    def trace(self): # след матрицы\n",
        "        if self.rows != self.cols:\n",
        "            raise ValueError(\"не квадр\")\n",
        "        return sum(self.data[i][i] for i in range(self.rows))\n",
        "\n",
        "\n",
        "    def get_ind(self, indices): # поиск по инд\n",
        "        i, j = indices\n",
        "        if i >= self.rows or j >= self.cols:\n",
        "            raise IndexError(\"Индекс выходит за границы матрицы\")\n",
        "        return self.data[i][j]\n",
        "\n",
        "\n",
        "    def get_row(self, i): #выдает строку\n",
        "        if i >= self.rows:\n",
        "            raise IndexError(\"out of range\")\n",
        "        return self.data[i]\n",
        "\n",
        "\n",
        "    def get_col(self, j): #выдает колонку\n",
        "        if j >= self.cols:\n",
        "            raise IndexError(\"out of range\")\n",
        "        return [row[j] for row in self.data]\n",
        "\n",
        "\n",
        "    def __repr__(self):\n",
        "      return '\\n'.join(['\\t'.join(map(str, row)) for row in self.data])\n",
        "\n"
      ],
      "metadata": {
        "id": "TlIpltzGqHjF"
      },
      "execution_count": 74,
      "outputs": []
    },
    {
      "cell_type": "markdown",
      "source": [
        "1. метод гауса"
      ],
      "metadata": {
        "id": "cPOoYzBEvG0X"
      }
    },
    {
      "cell_type": "code",
      "source": [
        "def gauss_solver(A: 'Matrix', b: 'Matrix')-> List['Matrix']:\n",
        "  \"\"\"\n",
        " Вход:\n",
        " A: матрица коэффициентов (n×n). Используется класс Matrix из предыдущей\n",
        " лабораторной работы\n",
        " →\n",
        " b: вектор правых частей (n×1)\n",
        " Выход:\n",
        " list[Matrix]: список базисных векторов решения системы\n",
        " Raises:\n",
        " ValueError: если система несовместна\n",
        " \"\"\"\n",
        "\n",
        "  n = A.rows\n",
        "\n",
        " # Создаём расширенную матрицу (A | b)\n",
        "  augmented = []\n",
        "  for i in range(n):\n",
        "      row_i = []\n",
        "      for j in range(n):\n",
        "          row_i.append(A[i, j])\n",
        "\n",
        "      row_i.append(b[i, 0])\n",
        "      augmented.append(row_i)\n",
        "\n",
        "  # Решение в лоб\n",
        "  for col in range(n):\n",
        "      pivot_row = max(range(col, n), key=lambda r: abs(augmented[r][col]))\n",
        "      pivot_val = augmented[pivot_row][col]\n",
        "\n",
        "      if abs(pivot_val) < 1e-10:\n",
        "          continue\n",
        "\n",
        "      if pivot_row != col:\n",
        "          augmented[col], augmented[pivot_row] = augmented[pivot_row], augmented[col]\n",
        "          pivot_val = augmented[col][col]\n",
        "\n",
        "      # Нормируем ведущую строку\n",
        "      for c in range(col, n + 1):\n",
        "          augmented[col][c] /= pivot_val\n",
        "\n",
        "      # Обнуляем столбец ниже pivot\n",
        "      for r in range(col + 1, n):\n",
        "          factor = augmented[r][col]\n",
        "          if abs(factor) > 1e-12:\n",
        "              for c in range(col, n + 1):\n",
        "                  augmented[r][c] -= factor * augmented[col][c]\n",
        "\n",
        "\n",
        "  for row in augmented:\n",
        "      left_part = row[:-1]\n",
        "      right_part = row[-1]\n",
        "      if all(abs(x) < 1e-10 for x in left_part) and abs(right_part) > 1e-10:\n",
        "          raise ValueError(\"Система несовместна\")\n",
        "\n",
        "  # Обратный ход\n",
        "  solution = [0.0] * n\n",
        "  for i in range(n - 1, -1, -1):\n",
        "      pivot_coeff = augmented[i][i]\n",
        "      if abs(pivot_coeff) < 1e-10:\n",
        "          continue\n",
        "\n",
        "      val = augmented[i][-1]\n",
        "      for j in range(i + 1, n):\n",
        "          val -= augmented[i][j] * solution[j]\n",
        "      solution[i] = val / pivot_coeff\n",
        "\n",
        "\n",
        "  sol_matrix = Matrix([[x] for x in solution])\n",
        "  return [sol_matrix]\n",
        ""
      ],
      "metadata": {
        "id": "1hFdgtWbvN4z"
      },
      "execution_count": 20,
      "outputs": []
    },
    {
      "cell_type": "code",
      "source": [
        "A = Matrix([[1, 2],\n",
        "            [3, 4]])\n",
        "b = Matrix([[5],\n",
        "            [11]])\n",
        "\n",
        "result = gauss_solver(A, b)\n",
        "print(result)"
      ],
      "metadata": {
        "colab": {
          "base_uri": "https://localhost:8080/"
        },
        "id": "5LScD5efzU1Z",
        "outputId": "1c2c6444-b977-451b-f91b-99a3460f03e7"
      },
      "execution_count": 21,
      "outputs": [
        {
          "output_type": "stream",
          "name": "stdout",
          "text": [
            "[1.0\n",
            "2.0]\n"
          ]
        }
      ]
    },
    {
      "cell_type": "markdown",
      "source": [
        "Что делает метод:\n",
        "\n",
        "Объединяет матрицы A и b в расширенную матрицу [A | b].\n",
        "\n",
        "Прямой ход метода Гаусса\n",
        "\n",
        "Обратный ход\n"
      ],
      "metadata": {
        "id": "RI0kDr4LyGWE"
      }
    },
    {
      "cell_type": "markdown",
      "source": [
        "Реализовать функцию центрирования данных:"
      ],
      "metadata": {
        "id": "Mp4Zg5lz37zV"
      }
    },
    {
      "cell_type": "code",
      "source": [
        "def center_data(X: 'Matrix')-> 'Matrix':\n",
        "  \"\"\"\n",
        " Вход: матрица данных X (n×m)\n",
        " Выход: центрированная матрица X_centered (n×m)\n",
        " \"\"\"\n",
        "  n, m = X.rows, X.cols\n",
        "  means = [sum(X.get_col(j)) / n for j in range(m)]\n",
        "  mean_matrix = Matrix([[means[j] for _ in range(n)] for j in range(m)]).trans()\n",
        "  return X - mean_matrix"
      ],
      "metadata": {
        "id": "PlbmW57H3-jc"
      },
      "execution_count": 29,
      "outputs": []
    },
    {
      "cell_type": "code",
      "source": [
        "X = Matrix([\n",
        "    [1, 2, 3],\n",
        "    [4, 5, 6],\n",
        "    [7, 8, 9]\n",
        "])\n",
        "\n",
        "X_centered = center_data(X)\n",
        "print(X_centered)"
      ],
      "metadata": {
        "colab": {
          "base_uri": "https://localhost:8080/"
        },
        "id": "6mxHDaM34jOg",
        "outputId": "6ee54c1d-34be-4083-bc92-2a680979957e"
      },
      "execution_count": 31,
      "outputs": [
        {
          "output_type": "stream",
          "name": "stdout",
          "text": [
            "-3.0\t-3.0\t-3.0\n",
            "0.0\t0.0\t0.0\n",
            "3.0\t3.0\t3.0\n"
          ]
        }
      ]
    },
    {
      "cell_type": "markdown",
      "source": [
        "Вычислить матрицу ковариаций:"
      ],
      "metadata": {
        "id": "w_kBCDqZ5Oxb"
      }
    },
    {
      "cell_type": "code",
      "source": [
        "def covariance_matrix(X_centered: 'Matrix')-> 'Matrix':\n",
        "  n = X_centered.rows\n",
        "  XT = X_centered.trans()\n",
        "  C = (XT @ X_centered) * (1 / (n - 1))\n",
        "  return C"
      ],
      "metadata": {
        "id": "HOi6O1865Rvh"
      },
      "execution_count": 49,
      "outputs": []
    },
    {
      "cell_type": "code",
      "source": [
        "X = Matrix([\n",
        "    [1, 2],\n",
        "    [3, 4],\n",
        "    [5, 6]\n",
        "])\n",
        "\n",
        "# Центрируем\n",
        "X_centered = center_data(X)\n",
        "\n",
        "# Считаем ковариационную матрицу\n",
        "C = covariance_matrix(X_centered)\n",
        "\n",
        "print(C)"
      ],
      "metadata": {
        "colab": {
          "base_uri": "https://localhost:8080/"
        },
        "id": "bhEt9Oou5wR2",
        "outputId": "b893ab42-aa3f-4c6a-a08d-99ab65ce9ecf"
      },
      "execution_count": 53,
      "outputs": [
        {
          "output_type": "stream",
          "name": "stdout",
          "text": [
            "4.0\t4.0\n",
            "4.0\t4.0\n"
          ]
        }
      ]
    },
    {
      "cell_type": "markdown",
      "source": [
        " Найти собственные значения матрицы\n",
        " C методом бисекции:"
      ],
      "metadata": {
        "id": "CuGc2w7B7reL"
      }
    },
    {
      "cell_type": "code",
      "source": [
        "def bis(func, a, b, epsilon):\n",
        "    fa = func(a)\n",
        "    fb = func(b)\n",
        "    if fa * fb > 0:\n",
        "        return None\n",
        "\n",
        "    while (b - a) / 2 > epsilon:\n",
        "        c = (a + b) / 2\n",
        "        fc = func(c)\n",
        "\n",
        "        if abs(fc) < 1e-14:\n",
        "            return c\n",
        "\n",
        "        if fa * fc < 0:\n",
        "            # корень лежит в [a, c]\n",
        "            b = c\n",
        "            fb = fc\n",
        "        else:\n",
        "            # корень лежит в (c, b]\n",
        "            a = c\n",
        "            fa = fc\n",
        "\n",
        "    return (a + b) / 2"
      ],
      "metadata": {
        "id": "nj6v8WUI9oWP"
      },
      "execution_count": 57,
      "outputs": []
    },
    {
      "cell_type": "markdown",
      "source": [
        "Этот код реализует метод бисекции (метод деления пополам) для численного поиска одного корня уравнения f(x)=0 на заданном отрезке [a,b], при условии, что функция меняет знак на концах отрезка(метод взял из лабы по матану)"
      ],
      "metadata": {
        "id": "Cs_eqfSK909f"
      }
    },
    {
      "cell_type": "code",
      "source": [
        "def find_roots(func, a, b, epsilon, tol=1e-5, step=0.1):\n",
        "    roots = []\n",
        "\n",
        "    x_points = []\n",
        "    x_val = a\n",
        "    while x_val < b:\n",
        "        x_points.append(x_val)\n",
        "        x_val += step\n",
        "    if x_points[-1] < b:\n",
        "        x_points.append(b)\n",
        "\n",
        "    # Ищем смену знака на смежных подотрезках\n",
        "    for i in range(len(x_points) - 1):\n",
        "        x0, x1 = x_points[i], x_points[i + 1]\n",
        "        f0, f1 = func(x0), func(x1)\n",
        "        if f0 * f1 <= 0:\n",
        "            # Уточняем корень методом бисекции\n",
        "            root = bisection_method(func, x0, x1, epsilon)\n",
        "            if root is not None:\n",
        "                # Проверяем, нет ли уже близкого корня\n",
        "                if not any(abs(root - r) <= tol for r in roots):\n",
        "                    roots.append(root)\n",
        "\n",
        "    return sorted(roots)"
      ],
      "metadata": {
        "id": "xkYqsoLQ-Uh2"
      },
      "execution_count": 58,
      "outputs": []
    },
    {
      "cell_type": "markdown",
      "source": [
        "Сканирует отрезок по частям и применяет метод бис"
      ],
      "metadata": {
        "id": "Lsq1H04m-vJt"
      }
    },
    {
      "cell_type": "code",
      "source": [
        "def find_det(C, x):\n",
        "    n = C.rows\n",
        "\n",
        "    new_data = []\n",
        "    for i in range(n):\n",
        "        row = []\n",
        "        for k in range(n):\n",
        "            val = C[i, k]\n",
        "            if i == k:\n",
        "                val -= x\n",
        "            row.append(val)\n",
        "        new_data.append(row)\n",
        "\n",
        "    M = Matrix(new_data)\n",
        "    return M.det_g()"
      ],
      "metadata": {
        "id": "9zJfyHTz_EZE"
      },
      "execution_count": 67,
      "outputs": []
    },
    {
      "cell_type": "markdown",
      "source": [
        "вычисляет det(C−xI)\n",
        "\n",
        "C — квадратная матрица,\n",
        "\n",
        "x — скаляр (обычно переменная характеристического многочлена),\n",
        "\n",
        "I — единичная матрица того же размера, что и C."
      ],
      "metadata": {
        "id": "MSrlm5nP_Q8_"
      }
    },
    {
      "cell_type": "code",
      "source": [
        "def interval(C, eps=1e-6):\n",
        "    n = C.rows\n",
        "    left_candidates = []\n",
        "    right_candidates = []\n",
        "    for i in range(n):\n",
        "        diag_val = C[i, i]\n",
        "        row_sum = 0.0\n",
        "        for j in range(n):\n",
        "            if j != i:\n",
        "                row_sum += abs(C[i, j])\n",
        "        left_candidates.append(diag_val - row_sum)\n",
        "        right_candidates.append(diag_val + row_sum)\n",
        "    a = min(left_candidates) - eps\n",
        "    b = max(right_candidates) + eps\n",
        "    return a, b"
      ],
      "metadata": {
        "id": "gESQ-ESd_nRo"
      },
      "execution_count": 62,
      "outputs": []
    },
    {
      "cell_type": "markdown",
      "source": [
        "Эта функция находит отрезок [a, b], на котором находятся все собственные значения матрицы С с помощью правила Гершгорина."
      ],
      "metadata": {
        "id": "k9lI4l22BCVl"
      }
    },
    {
      "cell_type": "code",
      "source": [
        "def find_eigenvalues(C: 'Matrix', tol: float = 1e-6)-> List[float]:\n",
        "  \"\"\"\n",
        "  Вход:\n",
        "  C: матрица ковариаций (m×m)\n",
        "  tol: допустимая погрешность\n",
        "  Выход: список вещественных собственных значений\n",
        "  \"\"\"\n",
        "  # Получаем интервал, в котором лежат собственные значения (по Гершгорину)\n",
        "  a, b = interval(C, eps=tol)\n",
        "\n",
        "  # Определяем функцию det(C - xI)\n",
        "  f = lambda x: find_det(C, x)\n",
        "\n",
        "  # Ищем все корни на интервале [a, b] с заданной точностью\n",
        "  eigenvalues = find_roots(f, a, b, epsilon=tol, tol=tol, step=0.1)\n",
        "\n",
        "  return eigenvalues\n",
        ""
      ],
      "metadata": {
        "id": "xf1ZLhHO71yu"
      },
      "execution_count": 75,
      "outputs": []
    },
    {
      "cell_type": "code",
      "source": [
        "C = Matrix([\n",
        "    [2, 1],\n",
        "    [1, 2]\n",
        "])\n",
        "\n",
        "eigenvalues = find_eigenvalues(C, tol=1e-6)\n",
        "\n",
        "print(eigenvalues)"
      ],
      "metadata": {
        "colab": {
          "base_uri": "https://localhost:8080/"
        },
        "id": "fFzcU3VEBVoF",
        "outputId": "596d31d7-fa43-4d7e-a689-11af079d9f91"
      },
      "execution_count": 77,
      "outputs": [
        {
          "output_type": "stream",
          "name": "stdout",
          "text": [
            "[0.999999762939453, 3.000000000000001]\n"
          ]
        }
      ]
    },
    {
      "cell_type": "markdown",
      "source": [
        "Найтисобственные векторы матрицы C:"
      ],
      "metadata": {
        "id": "Qs_4_zaSCrUB"
      }
    },
    {
      "cell_type": "code",
      "source": [
        "def find_v(A: Matrix, B: Matrix) -> List[float]:\n",
        "    sol = gauss_solver(A, B)\n",
        "    sol_vec = sol[0]\n",
        "    return [sol_vec[i, 0] for i in range(sol_vec.rows)]"
      ],
      "metadata": {
        "id": "8oBTHXKQDAHt"
      },
      "execution_count": 90,
      "outputs": []
    },
    {
      "cell_type": "markdown",
      "source": [
        "решает систему линейных уравнений вида:\n",
        "A⋅x=B\n",
        "где:\n",
        "\n",
        "A — матрица коэффициентов (размера n×n),\n",
        "\n",
        "B — столбец правых частей (размера n×1)\n",
        "\n",
        "и возр. вектор x"
      ],
      "metadata": {
        "id": "fwOGKfwXEVD3"
      }
    },
    {
      "cell_type": "code",
      "source": [
        "def one_mat(n: int) -> Matrix:\n",
        "  data = []\n",
        "\n",
        "  for i in range(n):\n",
        "      row = []\n",
        "      for j in range(n):\n",
        "          if i == j:\n",
        "              row.append(1.0)  # Единица на главной диагонали\n",
        "          else:\n",
        "              row.append(0.0)  # Остальные элементы — нули\n",
        "      data.append(row)\n",
        "\n",
        "  return Matrix(data)"
      ],
      "metadata": {
        "id": "dTRHE24YFEqV"
      },
      "execution_count": 80,
      "outputs": []
    },
    {
      "cell_type": "markdown",
      "source": [
        "Создаёт единичную матрицу размера n x n."
      ],
      "metadata": {
        "id": "JGV4u741FQ7F"
      }
    },
    {
      "cell_type": "code",
      "source": [
        "def inverse_iteration(C: Matrix, lam: float, max_iter: int = 100, tol: float = 1e-8) -> Matrix:\n",
        "  n = C.rows\n",
        "  I = one_mat(n)\n",
        "  shift = 1e-5\n",
        "  A = C - I.__mul__(lam + shift)# A = C - λI\n",
        "\n",
        "  x = Matrix([[random.random()] for _ in range(n)])\n",
        "\n",
        "  for _ in range(max_iter):\n",
        "      y_list = find_v(A, x)\n",
        "      y = Matrix([[val] for val in y_list])\n",
        "\n",
        "      length = math.sqrt(sum(y[i, 0] ** 2 for i in range(n)))\n",
        "      if length < tol:\n",
        "          break\n",
        "\n",
        "      y = y.__mul__(1.0 / length)\n",
        "\n",
        "      diff = max(abs(y[i, 0] - x[i, 0]) for i in range(n))\n",
        "      x = y\n",
        "\n",
        "      if diff < tol:\n",
        "          break\n",
        "\n",
        "  return x"
      ],
      "metadata": {
        "id": "x-tUOLJMFXxz"
      },
      "execution_count": 100,
      "outputs": []
    },
    {
      "cell_type": "markdown",
      "source": [
        "Функция реализует инверсную итерацию"
      ],
      "metadata": {
        "id": "UdM9lFldGF1L"
      }
    },
    {
      "cell_type": "code",
      "source": [
        "def find_eigenvectors(C: 'Matrix', eigenvalues: List[float])-> List['Matrix']:\n",
        "  \"\"\"\n",
        "  Вход:\n",
        "  C: матрица ковариаций (m×m)\n",
        "  eigenvalues: список собственных значений\n",
        "  Выход: список собственных векторов (каждый вектор- объект Matrix)\n",
        "  \"\"\"\n",
        "  vectors = []\n",
        "  for lam in eigenvalues:\n",
        "      vec = inverse_iteration(C, lam)\n",
        "      vectors.append(vec)\n",
        "  return vectors"
      ],
      "metadata": {
        "id": "ZdFeaZjSCxo-"
      },
      "execution_count": 101,
      "outputs": []
    },
    {
      "cell_type": "code",
      "source": [
        "C = Matrix([\n",
        "    [2, 1],\n",
        "    [1, 2]\n",
        "])\n",
        "\n",
        "eigenvalues = [1.0, 3.0]\n",
        "vectors = find_eigenvectors(C, eigenvalues)\n",
        "\n",
        "for i, v in enumerate(vectors):\n",
        "    lam = eigenvalues[i]\n",
        "    Cv = C.__matmul__(v)\n",
        "    lv = v.__mul__(lam)\n",
        "\n",
        "    for j in range(v.rows):\n",
        "        diff = abs(Cv[j, 0] - lv[j, 0])\n",
        "        assert diff < 1e-4, f'{lam} {j}'\n",
        "print('ok')"
      ],
      "metadata": {
        "colab": {
          "base_uri": "https://localhost:8080/"
        },
        "id": "wm9eb5GxHMhR",
        "outputId": "7abb6348-1f47-42ed-a1d7-1d4b89c2d2b9"
      },
      "execution_count": 107,
      "outputs": [
        {
          "output_type": "stream",
          "name": "stdout",
          "text": [
            "ok\n"
          ]
        }
      ]
    },
    {
      "cell_type": "markdown",
      "source": [
        "Вычислить долю объяснённой дисперсии:"
      ],
      "metadata": {
        "id": "ANmtaen5JQTX"
      }
    },
    {
      "cell_type": "code",
      "source": [
        "def explained_variance_ratio(eigenvalues: List[float], k: int)-> float:\n",
        "  \"\"\"\n",
        "  Вход:\n",
        "  eigenvalues: список собственных значений\n",
        "  k: число компонент\n",
        "  Выход: доля объяснённой дисперсии\n",
        "  \"\"\"\n",
        "  if not eigenvalues:\n",
        "      raise ValueError(\"gg\")\n",
        "\n",
        "  if not (1 <= k <= len(eigenvalues)):\n",
        "      k = len(eigenvalues)\n",
        "      # raise ValueError(f\"k={k} > {len(eigenvalues)}\")\n",
        "\n",
        "  total = sum(eigenvalues)\n",
        "  if total == 0:\n",
        "      raise ValueError(\"=0\")\n",
        "\n",
        "  top_k_sum = sum(sorted(eigenvalues, reverse=True)[:k])\n",
        "  return top_k_sum / total"
      ],
      "metadata": {
        "id": "vUnWzBZUJU-D"
      },
      "execution_count": 129,
      "outputs": []
    },
    {
      "cell_type": "code",
      "source": [
        "eigenvalues = [4.0, 3.0, 2.0, 1.0]\n",
        "result = explained_variance_ratio(eigenvalues, 2)\n",
        "print(result)"
      ],
      "metadata": {
        "colab": {
          "base_uri": "https://localhost:8080/"
        },
        "id": "P5ueJWgUKK5m",
        "outputId": "d46d03c3-9ad8-46bf-f579-a63ccc60dc19"
      },
      "execution_count": 110,
      "outputs": [
        {
          "output_type": "stream",
          "name": "stdout",
          "text": [
            "0.7\n"
          ]
        }
      ]
    },
    {
      "cell_type": "markdown",
      "source": [
        "Реализовать полный алгоритм PCA:"
      ],
      "metadata": {
        "id": "H77E1iglKXaU"
      }
    },
    {
      "cell_type": "markdown",
      "source": [
        "Обработать пропущенные значения в\n",
        " данных:"
      ],
      "metadata": {
        "id": "FgN9ICTzRy6C"
      }
    },
    {
      "cell_type": "code",
      "source": [
        "def handle_missing_values(X: Matrix) -> Matrix:\n",
        "    \"\"\"\n",
        "    Заменяет пропущенные значения на среднее по столбцу.\n",
        "    \"\"\"\n",
        "    n, m = X.rows, X.cols\n",
        "    data = [[X[i, j] for j in range(m)] for i in range(n)]\n",
        "\n",
        "    for j in range(m):\n",
        "        # Собираем непустые значения в столбце\n",
        "        col_values = [data[i][j] for i in range(n) if data[i][j] is not None and not math.isnan(data[i][j])]\n",
        "        if not col_values:\n",
        "            raise ValueError(f\"в столбце нету знач\")\n",
        "\n",
        "        mean_val = sum(col_values) / len(col_values)\n",
        "\n",
        "        # Заменяем пропуски на среднее\n",
        "        for i in range(n):\n",
        "            if data[i][j] is None or (isinstance(data[i][j], float) and math.isnan(data[i][j])):\n",
        "                data[i][j] = mean_val\n",
        "\n",
        "    return Matrix(data)"
      ],
      "metadata": {
        "id": "9C2vnH9UMPBU"
      },
      "execution_count": 116,
      "outputs": []
    },
    {
      "cell_type": "markdown",
      "source": [
        "Добавить автоматический выбор числа\n",
        " главных компонент на основе порога объяснённой дисперсии"
      ],
      "metadata": {
        "id": "wJYiRwOdRSuJ"
      }
    },
    {
      "cell_type": "code",
      "source": [
        "def auto_select_k(eigenvalues: List[float], threshold: float = 0.95)-> int:\n",
        "  \"\"\"\n",
        "  Вход:\n",
        "  eigenvalues: список собственных значений\n",
        "  threshold: порог объяснённой дисперсии\n",
        "  Выход: оптимальное число главных компонент k\n",
        "  \"\"\"\n",
        "  if not eigenvalues:\n",
        "      raise ValueError(\"eigenvalues пуст.\")\n",
        "\n",
        "  total = sum(eigenvalues)\n",
        "  if total == 0:\n",
        "      raise ValueError(\"cумма собственных значений равна 0.\")\n",
        "\n",
        "  cumulative = 0\n",
        "  for i, val in enumerate(eigenvalues, start=1):\n",
        "      cumulative += val\n",
        "      if cumulative / total >= threshold:\n",
        "          return i\n",
        "\n",
        "  return len(eigenvalues)"
      ],
      "metadata": {
        "id": "fPIWwcqURUp8"
      },
      "execution_count": 139,
      "outputs": []
    },
    {
      "cell_type": "code",
      "source": [
        "def pca(X: 'Matrix', k: int)-> Tuple['Matrix', float]:\n",
        "  \"\"\"\n",
        "  Вход:\n",
        "  X: матрица данных (n×m)\n",
        "  k: число главных компонент\n",
        "  Выход:\n",
        "  X_proj: проекция данных (n×k)\n",
        "  : доля объяснённой дисперсии\n",
        "  \"\"\"\n",
        "\n",
        "  # 1. Предобработка\n",
        "  X = handle_missing_values(X)\n",
        "  X_centered = center_data(X)\n",
        "  n, m = X_centered.rows, X_centered.cols\n",
        "\n",
        "  # 2. Ковариационная матрица и спектральное разложение\n",
        "  C = covariance_matrix(X_centered)\n",
        "  eigenvals = find_eigenvalues(C, tol=1e-6)\n",
        "  eigenvecs = find_eigenvectors(C, eigenvals)\n",
        "\n",
        "  # 3. Сортировка по убыванию значимости\n",
        "  sorted_pairs = sorted(zip(eigenvals, eigenvecs), reverse=True, key=lambda pair: pair[0])\n",
        "  sorted_vals, sorted_vecs = zip(*sorted_pairs)\n",
        "\n",
        "  # 4. Автоматический выбор k (если не задан)\n",
        "  if k is None:\n",
        "      k = auto_select_k(sorted_vals)\n",
        "  if not (1 <= k <= m):\n",
        "      raise ValueError(f\"Некорректное k={k} (ожидалось от 1 до {m})\")\n",
        "\n",
        "  # 5. Формируем W — матрицу из первых k собственных векторов\n",
        "  W_data = [[vec[i, 0] for vec in sorted_vecs[:k]] for i in range(m)]\n",
        "  W = Matrix(W_data)  # (m×k)\n",
        "\n",
        "  # 6. Проецируем данные\n",
        "  X_proj = X_centered @ W\n",
        "\n",
        "  # 7. Доля объяснённой дисперсии\n",
        "  gamma = explained_variance_ratio(sorted_vals, k)\n",
        "\n",
        "  # 8. Средние значения до центрирования\n",
        "  means = [sum(X.get_col(i)) / n for i in range(m)]\n",
        "\n",
        "  return X_proj, gamma, k, W, means"
      ],
      "metadata": {
        "id": "4n2QB6TPKX8N"
      },
      "execution_count": 140,
      "outputs": []
    },
    {
      "cell_type": "markdown",
      "source": [
        "Визуализироватьпроекцию данных напервые две главные компоненты."
      ],
      "metadata": {
        "id": "caqJXjm0NL9o"
      }
    },
    {
      "cell_type": "code",
      "source": [
        "from matplotlib.figure import Figure\n",
        "\n",
        "def plot_pca_projection(X_proj: 'Matrix')-> Figure:\n",
        "  \"\"\"\n",
        "  Вход: проекция данных X_proj (n×2)\n",
        "  Выход: объект Figure из Matplotlib\n",
        "  \"\"\"\n",
        "  if X_proj.cols != 2:\n",
        "      raise ValueError(f\"другая размерность\")\n",
        "\n",
        "  x = [X_proj[i, 0] for i in range(X_proj.rows)]\n",
        "  y = [X_proj[i, 1] for i in range(X_proj.rows)]\n",
        "\n",
        "  fig, ax = plt.subplots(figsize=(6, 6))\n",
        "  ax.scatter(x, y, c='blue', alpha=0.7)\n",
        "  ax.set(xlabel=\"PC1\", ylabel=\"PC2\", title=\"PCA: на 2 компоненты\")\n",
        "\n",
        "  return fig\n"
      ],
      "metadata": {
        "id": "7JJHNirzNMPt"
      },
      "execution_count": 141,
      "outputs": []
    },
    {
      "cell_type": "code",
      "source": [
        "X_proj_data = [\n",
        "    [-1.2, 0.8],\n",
        "    [-0.8, 1.0],\n",
        "    [-1.5, 0.5],\n",
        "    [-0.5, 1.2],\n",
        "    [-1.0, 0.9]]\n",
        "\n",
        "X_proj = Matrix(X_proj_data)\n",
        "\n",
        "fig = plot_pca_projection(X_proj)\n",
        "plt.show()"
      ],
      "metadata": {
        "colab": {
          "base_uri": "https://localhost:8080/",
          "height": 564
        },
        "id": "Wu5zNbu2TxBm",
        "outputId": "359d679c-ed0b-490c-b6b4-ad1599649820"
      },
      "execution_count": 147,
      "outputs": [
        {
          "output_type": "display_data",
          "data": {
            "text/plain": [
              "<Figure size 600x600 with 1 Axes>"
            ],
            "image/png": "[encoded data removed]"
          },
          "metadata": {}
        }
      ]
    },
    {
      "cell_type": "markdown",
      "source": [
        " Вычислить среднеквадратическую ошибку\n",
        " восстановления данных:"
      ],
      "metadata": {
        "id": "Mlg5HQAqVIIC"
      }
    },
    {
      "cell_type": "code",
      "source": [
        "def reconstruction_error(X_orig: 'Matrix', X_recon: 'Matrix')-> float:\n",
        "  \"\"\"\n",
        "  Вход:\n",
        "  X_orig: исходные данные (n×m)\n",
        "  X_recon: восстановленные данные (n×m)\n",
        "  Выход: среднеквадратическая ошибка MSE\n",
        "  \"\"\"\n",
        "  if (X_orig.rows, X_orig.cols) != (X_recon.rows, X_recon.cols):\n",
        "      raise ValueError(\"X_orig и X_recon разные\")\n",
        "\n",
        "  total_error = sum(\n",
        "      (X_orig[i, j] - X_recon[i, j]) ** 2\n",
        "      for i in range(X_orig.rows)\n",
        "      for j in range(X_orig.cols))\n",
        "\n",
        "  return total_error / (X_orig.rows * X_orig.cols)"
      ],
      "metadata": {
        "id": "9DE41-btVPwW"
      },
      "execution_count": 148,
      "outputs": []
    },
    {
      "cell_type": "code",
      "source": [
        "X_orig = Matrix([\n",
        "        [1.0, 2.0],\n",
        "        [3.0, 4.0]\n",
        "])\n",
        "\n",
        "\n",
        "X_recon = Matrix([\n",
        "        [1.1, 2.1],\n",
        "        [2.9, 3.9]\n",
        "])\n",
        "\n",
        "mse = reconstruction_error(X_orig, X_recon)\n",
        "mse"
      ],
      "metadata": {
        "colab": {
          "base_uri": "https://localhost:8080/"
        },
        "id": "WiKjI00tV6Hz",
        "outputId": "20feb873-5583-415c-c3b2-8d16feca0680"
      },
      "execution_count": 149,
      "outputs": [
        {
          "output_type": "execute_result",
          "data": {
            "text/plain": [
              "0.010000000000000018"
            ]
          },
          "metadata": {},
          "execution_count": 149
        }
      ]
    },
    {
      "cell_type": "markdown",
      "source": [
        "Исследовать влияние шума на PCA:"
      ],
      "metadata": {
        "id": "SdM9e7a8WPa5"
      }
    },
    {
      "cell_type": "code",
      "source": [
        "def add_noise_and_compare(X: 'Matrix', noise_level: float = 0.1, k = 1):\n",
        "  \"\"\"\n",
        "  Вход:\n",
        "  X: матрица данных (n×m)\n",
        "  noise_level: уровень шума (доля от стандартного отклонения)\n",
        "  Выход: результаты PCA до и после добавления шума.\n",
        "  \"\"\"\n",
        "\n",
        "  n, m = X.rows, X.cols\n",
        "\n",
        "  # PCA до добавления шума\n",
        "  X_proj_orig, gamma_orig, k_orig, _, _ = pca(X, k)\n",
        "  print(f\"До шума k={k_orig} / объяснённая дисперсия: {gamma_orig:.4f}\")\n",
        "\n",
        "  # шумим\n",
        "  means = [sum(X.get_col(j)) / n for j in range(m)]\n",
        "  stdevs = [\n",
        "      math.sqrt(sum((X[i, j] - means[j]) ** 2 for i in range(n)) / (n - 1))\n",
        "      for j in range(m)\n",
        "  ]\n",
        "\n",
        "  X_noisy = Matrix([\n",
        "      [\n",
        "          X[i, j] + random.gauss(0, stdevs[j] * noise_level)\n",
        "          for j in range(m)\n",
        "      ] for i in range(n)\n",
        "  ])\n",
        "\n",
        "  # PCA после шума\n",
        "  X_proj_noisy, gamma_noisy, k_noisy, _, _ = pca(X_noisy, k)\n",
        "  print(f\"После шума k={k_noisy} / объяснённая дисперсия: {gamma_noisy:.4f}\")\n",
        "\n",
        "  # hfpyjcnnm\n",
        "  diff = gamma_noisy - gamma_orig\n",
        "  print(f\"Разность - {diff:.4f}\")"
      ],
      "metadata": {
        "id": "I6zQijQqWRTd"
      },
      "execution_count": 154,
      "outputs": []
    },
    {
      "cell_type": "code",
      "source": [
        "X = Matrix([\n",
        "    [1.0, 2.0],\n",
        "    [2.0, 4.1],\n",
        "    [3.0, 6.1],\n",
        "    [4.0, 8.0],\n",
        "    [5.0, 10.0],\n",
        "    [6.0, 12.0]\n",
        "])\n",
        "\n",
        "add_noise_and_compare(X, noise_level=0.2)"
      ],
      "metadata": {
        "colab": {
          "base_uri": "https://localhost:8080/"
        },
        "id": "7hKuHw3xXomy",
        "outputId": "4b18b03d-c1f3-49f7-8e9b-0322138e22bf"
      },
      "execution_count": 155,
      "outputs": [
        {
          "output_type": "stream",
          "name": "stdout",
          "text": [
            "До шума k=1 / объяснённая дисперсия: 1.0000\n",
            "После шума k=1 / объяснённая дисперсия: 0.9881\n",
            "Разность - -0.0118\n"
          ]
        }
      ]
    },
    {
      "cell_type": "markdown",
      "source": [
        "Применить PCA к реальному датасету:"
      ],
      "metadata": {
        "id": "szogWYnuas32"
      }
    },
    {
      "cell_type": "code",
      "source": [
        "def apply_pca_to_dataset(dataset_name: str, k: int, max_rows = 15) -> Tuple['Matrix', float]:\n",
        "    \"\"\"\n",
        "    Загружает датасет по имени, применяет PCA, и возвращает:\n",
        "    - проекцию данных (Matrix)\n",
        "    - метрику качества (межклассовое расстояние)\n",
        "    \"\"\"\n",
        "    # Загрузка + поиск признаков\n",
        "    if dataset_name == \"seoul_bike\":\n",
        "        with open(\"/content/SeoulBikeData.csv\", encoding=\"utf-8\") as f:\n",
        "            reader = csv.reader(f)\n",
        "            header = next(reader)\n",
        "\n",
        "            used_cols = [\n",
        "                \"Temperature(C)\", \"Humidity(%)\", \"Wind speed (m/s)\", \"Visibility (10m)\",\n",
        "                \"Dew point temperature(C)\", \"Solar Radiation (MJ/m2)\",\n",
        "                \"Rainfall(mm)\", \"Snowfall (cm)\", \"Rented Bike Count\"\n",
        "            ]\n",
        "            col_idx = [header.index(col) for col in used_cols]\n",
        "\n",
        "            X_data = []\n",
        "            for row in reader:\n",
        "                try:\n",
        "                    nums = [float(row[i]) for i in col_idx]\n",
        "                    X_data.append(nums)\n",
        "                except ValueError:\n",
        "                    continue\n",
        "                if len(X_data) >= max_rows: # сделал data меньше\n",
        "                  break\n",
        "\n",
        "            X = Matrix(X_data)\n",
        "\n",
        "    # ДО PCA:\n",
        "    y = [X[i, -1] for i in range(X.rows)]\n",
        "    y_mean = sum(y) / len(y)\n",
        "    variance_before = sum((yi - y_mean) ** 2 for yi in y) / len(y)\n",
        "\n",
        "    # Применяем PCA\n",
        "    X_clean = Matrix([row[:-1] for row in X.data])  # исключаем \"Rented Bike Count\" из признаков\n",
        "    X_proj, _, _, _, _ = pca(X_clean, k=k)\n",
        "\n",
        "\n",
        "    print(f\"до PCA: {X_clean.cols}\")\n",
        "    print(f\"после PCA: {k}\")\n",
        "    print(f\"Дисперсия целевой переменной: {variance_before:.4f}\")\n",
        "\n",
        "    return X_proj, variance_before"
      ],
      "metadata": {
        "id": "a9yHpkZ5atHf"
      },
      "execution_count": 176,
      "outputs": []
    },
    {
      "cell_type": "code",
      "source": [
        "X_proj, score = apply_pca_to_dataset(\"seoul_bike\", k=2)\n",
        "print(f\"{score}\")"
      ],
      "metadata": {
        "colab": {
          "base_uri": "https://localhost:8080/"
        },
        "id": "BYB_Nzm4bPmm",
        "outputId": "5584d85a-46bf-42d3-caed-5630bf7f6814"
      },
      "execution_count": 179,
      "outputs": [
        {
          "output_type": "stream",
          "name": "stdout",
          "text": [
            "до PCA: 8\n",
            "после PCA: 2\n",
            "Дисперсия целевой переменной: 45350.1156\n",
            "45350.11555555555\n"
          ]
        }
      ]
    },
    {
      "cell_type": "markdown",
      "source": [
        "Тесты:"
      ],
      "metadata": {
        "id": "CqVtSr6ffF-H"
      }
    },
    {
      "cell_type": "code",
      "source": [
        "def test_gauss():\n",
        "    \"\"\"Простые тесты метода Гаусса для СЛАУ.\"\"\"\n",
        "\n",
        "    def almost_equal(a, b, tol=1e-6):\n",
        "        return abs(a - b) < tol\n",
        "\n",
        "    tests = [\n",
        "        {\n",
        "            \"desc\": \"Тест 1: Единственное решение\",\n",
        "            \"A\": Matrix([[3, 2], [1, -1]]),\n",
        "            \"b\": Matrix([[8], [1]]),\n",
        "            \"expected\": [2.0, 1.0]\n",
        "        },\n",
        "        {\n",
        "            \"desc\": \"Тест 2: Несовместная система\",\n",
        "            \"A\": Matrix([[1, 1], [0, 0]]),\n",
        "            \"b\": Matrix([[3], [5]]),\n",
        "            \"should_fail\": True\n",
        "        },\n",
        "        {\n",
        "            \"desc\": \"Тест 3: Бесконечно много решений\",\n",
        "            \"A\": Matrix([[2, 4], [1, 2]]),\n",
        "            \"b\": Matrix([[6], [3]]),\n",
        "            \"verify_eq\": lambda x, y: almost_equal(2 * x + 4 * y, 6)\n",
        "        }\n",
        "    ]\n",
        "\n",
        "    for t in tests:\n",
        "        print(t[\"desc\"])\n",
        "        try:\n",
        "            result = gauss_solver(t[\"A\"], t[\"b\"])\n",
        "            x, y = result[0][0, 0], result[0][1, 0]\n",
        "\n",
        "            if \"should_fail\" in t:\n",
        "                print(\" Ожидалась ошибка, но решение получено!\")\n",
        "                continue\n",
        "\n",
        "            if \"expected\" in t:\n",
        "                assert almost_equal(x, t[\"expected\"][0]), f\"x ≠ {t['expected'][0]}\"\n",
        "                assert almost_equal(y, t[\"expected\"][1]), f\"y ≠ {t['expected'][1]}\"\n",
        "                print(f\" Решение верное: x={x:.2f}, y={y:.2f}\")\n",
        "            elif \"verify_eq\" in t:\n",
        "                assert t[\"verify_eq\"](x, y), \"Уравнение не выполняется\"\n",
        "                print(f\" Решение подходит: x={x:.2f}, y={y:.2f}\")\n",
        "\n",
        "        except ValueError as ve:\n",
        "            if \"should_fail\" in t:\n",
        "                print(\" Правильно: система несовместна.\")\n",
        "            else:\n",
        "                print(f\" ValueError: {ve}\")\n",
        "        except Exception as e:\n",
        "            print(f\" Неожиданная ошибка: {e}\")\n",
        "\n",
        "    print(\"\\n Все проверки завершены.\")"
      ],
      "metadata": {
        "id": "170D8ysFfHlj"
      },
      "execution_count": 183,
      "outputs": []
    },
    {
      "cell_type": "code",
      "source": [
        "test_gauss()"
      ],
      "metadata": {
        "colab": {
          "base_uri": "https://localhost:8080/"
        },
        "id": "9dM3O0HAgJz0",
        "outputId": "905ef886-d34a-488d-9198-ed512152557f"
      },
      "execution_count": 184,
      "outputs": [
        {
          "output_type": "stream",
          "name": "stdout",
          "text": [
            "Тест 1: Единственное решение\n",
            " Решение верное: x=2.00, y=1.00\n",
            "Тест 2: Несовместная система\n",
            " Правильно: система несовместна.\n",
            "Тест 3: Бесконечно много решений\n",
            " Решение подходит: x=3.00, y=0.00\n",
            "\n",
            " Все проверки завершены.\n"
          ]
        }
      ]
    },
    {
      "cell_type": "code",
      "source": [
        "def test_center_data():\n",
        "    \"\"\"Проверка центрирования данных по столбцам.\"\"\"\n",
        "\n",
        "    X = Matrix([\n",
        "        [5.0, 10.0, 15.0],\n",
        "        [2.0, 8.0, 14.0],\n",
        "        [8.0, 12.0, 16.0]\n",
        "    ])\n",
        "    X_centered = center_data(X)\n",
        "\n",
        "    for j in range(X.cols):\n",
        "        mean = sum(X_centered.get_col(j)) / X.rows\n",
        "        assert abs(mean) < 1e-12, f\"Столбец {j + 1} не центрирован (mean = {mean:.2e})\"\n",
        "        print(f\"✅ Столбец {j + 1}: среднее = {mean:.2e}\")\n",
        "\n",
        "    print(\"\\n📊 Средние исходных данных:\", [f\"{sum(X.get_col(j))/X.rows:.2f}\" for j in range(X.cols)])\n",
        "    print(\"🎉 Центрирование прошло успешно!\")"
      ],
      "metadata": {
        "id": "s89iEtvUgvfx"
      },
      "execution_count": 189,
      "outputs": []
    },
    {
      "cell_type": "code",
      "source": [
        "test_center_data()"
      ],
      "metadata": {
        "colab": {
          "base_uri": "https://localhost:8080/"
        },
        "id": "7IubH6cag0WV",
        "outputId": "da08c97b-19c0-4b37-870f-33f945aae8c1"
      },
      "execution_count": 190,
      "outputs": [
        {
          "output_type": "stream",
          "name": "stdout",
          "text": [
            "✅ Столбец 1: среднее = 0.00e+00\n",
            "✅ Столбец 2: среднее = 0.00e+00\n",
            "✅ Столбец 3: среднее = 0.00e+00\n",
            "\n",
            "📊 Средние исходных данных: ['5.00', '10.00', '15.00']\n",
            "🎉 Центрирование прошло успешно!\n"
          ]
        }
      ]
    },
    {
      "cell_type": "code",
      "source": [
        "def test_covariance_matrix():\n",
        "    \"\"\"Проверка вычисления ковариационной матрицы.\"\"\"\n",
        "\n",
        "    X_centered = Matrix([\n",
        "        [2.0, -2.0, 3.0],\n",
        "        [-1.0, 0.0, 1.0],\n",
        "        [0.0, 1.0, -2.0]\n",
        "    ])\n",
        "\n",
        "    expected = Matrix([\n",
        "        [2.5, -2.0, 2.5],\n",
        "        [-2.0, 2.5, -4.0],\n",
        "        [2.5, -4.0, 7.0]\n",
        "    ])\n",
        "\n",
        "    C = covariance_matrix(X_centered)\n",
        "\n",
        "    for i in range(C.rows):\n",
        "        for j in range(C.cols):\n",
        "            actual, target = C[i, j], expected[i, j]\n",
        "            assert abs(actual - target) < 1e-6, f\"C[{i},{j}] = {actual:.4f}, ожидалось {target:.4f}\"\n",
        "            print(f\"✅ C[{i},{j}] = {actual:.2f} (ОК)\")\n",
        "\n",
        "    print(\"\\n🎉 Ковариационная матрица вычислена корректно.\")"
      ],
      "metadata": {
        "id": "VlUChp6XhDy3"
      },
      "execution_count": 191,
      "outputs": []
    },
    {
      "cell_type": "code",
      "source": [
        "test_covariance_matrix()"
      ],
      "metadata": {
        "colab": {
          "base_uri": "https://localhost:8080/"
        },
        "id": "qoIMcGUVhL1d",
        "outputId": "9c98b88a-e4e4-492d-f431-d4dc22511672"
      },
      "execution_count": 192,
      "outputs": [
        {
          "output_type": "stream",
          "name": "stdout",
          "text": [
            "✅ C[0,0] = 2.50 (ОК)\n",
            "✅ C[0,1] = -2.00 (ОК)\n",
            "✅ C[0,2] = 2.50 (ОК)\n",
            "✅ C[1,0] = -2.00 (ОК)\n",
            "✅ C[1,1] = 2.50 (ОК)\n",
            "✅ C[1,2] = -4.00 (ОК)\n",
            "✅ C[2,0] = 2.50 (ОК)\n",
            "✅ C[2,1] = -4.00 (ОК)\n",
            "✅ C[2,2] = 7.00 (ОК)\n",
            "\n",
            "🎉 Ковариационная матрица вычислена корректно.\n"
          ]
        }
      ]
    },
    {
      "cell_type": "code",
      "source": [
        "def test_find():\n",
        "    \"\"\"Проверка нахождения собственных значений и векторов.\"\"\"\n",
        "\n",
        "    def check_eigenvalues(C, expected, tol=1e-6):\n",
        "        found = sorted(find_eigenvalues(C, tol))\n",
        "        assert len(found) == len(expected), \"Неверное количество собственных значений\"\n",
        "        for f, e in zip(found, expected):\n",
        "            assert abs(f - e) < tol, f\"λ ≠ {e:.2f} (найдено {f:.2f})\"\n",
        "        print(f\"✅ Собственные значения: {found} (Ожидались: {expected})\")\n",
        "\n",
        "    def check_eigenvectors(C, eigenvals, tol=1e-4):\n",
        "        vecs = find_eigenvectors(C, eigenvals)\n",
        "        for i, (λ, v) in enumerate(zip(eigenvals, vecs)):\n",
        "            diff = C @ v - v * λ\n",
        "            for r in range(diff.rows):\n",
        "                assert abs(diff[r, 0]) < tol, f\"⛔ λ={λ:.2f}: строка {r}, ошибка {diff[r, 0]:.2e}\"\n",
        "        print(\"✅ Собственные векторы корректны.\")\n",
        "\n",
        "    # Тест 1\n",
        "    check_eigenvalues(Matrix([[5, 2], [2, 5]]), [3.0, 7.0])\n",
        "\n",
        "    # Тест 2\n",
        "    check_eigenvalues(Matrix([[4, 0], [0, 6]]), [4.0, 6.0])\n",
        "\n",
        "\n",
        "    print(\"\\n🎉 Все тесты успешно пройдены!\")"
      ],
      "metadata": {
        "id": "t0oU-y47hWwL"
      },
      "execution_count": 195,
      "outputs": []
    },
    {
      "cell_type": "code",
      "source": [
        "test_find()"
      ],
      "metadata": {
        "colab": {
          "base_uri": "https://localhost:8080/"
        },
        "id": "-M5NTeahhXOG",
        "outputId": "a5080f45-75f5-4a2d-8bea-d5932a3f6a19"
      },
      "execution_count": 196,
      "outputs": [
        {
          "output_type": "stream",
          "name": "stdout",
          "text": [
            "✅ Собственные значения: [2.999999762939453, 7.000000499999997] (Ожидались: [3.0, 7.0])\n",
            "✅ Собственные значения: [3.9999997629394533, 5.9999999999999964] (Ожидались: [4.0, 6.0])\n",
            "\n",
            "🎉 Все тесты успешно пройдены!\n"
          ]
        }
      ]
    },
    {
      "cell_type": "code",
      "source": [
        "def test_explained_variance_ratio():\n",
        "    \"\"\"Проверка вычисления доли объяснённой дисперсии.\"\"\"\n",
        "\n",
        "    tests = [\n",
        "        # (eigenvalues, k, expected_ratio, description)\n",
        "        ([2.0, 1.0], 1, 2/3, \"Базовый случай (k=1)\"),\n",
        "        ([2.0, 1.0], 2, 1.0, \"Полная сумма (k=2)\"),\n",
        "        ([3.0, 5.0], 1, 5/8, \"Неупорядоченные значения\"),\n",
        "        ([1.0, 4.0, 2.0], 2, (4+2)/7, \"Дробные значения, k=2\"),\n",
        "    ]\n",
        "\n",
        "    for i, (ev, k, expected, desc) in enumerate(tests, 1):\n",
        "        ratio = explained_variance_ratio(ev, k)\n",
        "        print(f\"Тест {i}: {desc} | Получено: {ratio:.4f}, Ожидалось: {expected:.4f}\")\n",
        "        assert abs(ratio - expected) < 1e-9, f\"Ошибка в тесте {i}\"\n",
        "\n",
        "\n",
        "\n",
        "    print(\"\\n🎉 Все тесты успешно пройдены!\")"
      ],
      "metadata": {
        "id": "LUGV0fy_h0IQ"
      },
      "execution_count": 205,
      "outputs": []
    },
    {
      "cell_type": "code",
      "source": [
        "test_explained_variance_ratio()"
      ],
      "metadata": {
        "colab": {
          "base_uri": "https://localhost:8080/"
        },
        "id": "rtO9eNjxh0nw",
        "outputId": "fc7eb528-5e90-4e0b-84b3-9742662d0492"
      },
      "execution_count": 206,
      "outputs": [
        {
          "output_type": "stream",
          "name": "stdout",
          "text": [
            "Тест 1: Базовый случай (k=1) | Получено: 0.6667, Ожидалось: 0.6667\n",
            "Тест 2: Полная сумма (k=2) | Получено: 1.0000, Ожидалось: 1.0000\n",
            "Тест 3: Неупорядоченные значения | Получено: 0.6250, Ожидалось: 0.6250\n",
            "Тест 4: Дробные значения, k=2 | Получено: 0.8571, Ожидалось: 0.8571\n",
            "\n",
            "🎉 Все тесты успешно пройдены!\n"
          ]
        }
      ]
    },
    {
      "cell_type": "code",
      "source": [
        "def test_reconstruction_error():\n",
        "    \"\"\"Проверка расчёта MSE между матрицами.\"\"\"\n",
        "\n",
        "    tests = [\n",
        "        {\n",
        "            \"desc\": \"Базовый случай\",\n",
        "            \"X1\": Matrix([[2.0, 1.0], [3.0, 1.5]]),\n",
        "            \"X2\": Matrix([[1.8, 0.9], [2.5, 1.4]]),\n",
        "            \"expected\": 0.0775\n",
        "        },\n",
        "        {\n",
        "            \"desc\": \"Идеальное совпадение\",\n",
        "            \"X1\": Matrix([[2.0, 1.0], [3.0, 1.5]]),\n",
        "            \"X2\": Matrix([[2.0, 1.0], [3.0, 1.5]]),\n",
        "            \"expected\": 0.0\n",
        "        },\n",
        "        {\n",
        "            \"desc\": \"Отрицательные значения\",\n",
        "            \"X1\": Matrix([[-1.0, 2.0]]),\n",
        "            \"X2\": Matrix([[-0.5, 1.5]]),\n",
        "            \"expected\": 0.25\n",
        "        }\n",
        "    ]\n",
        "\n",
        "    for i, test in enumerate(tests, 1):\n",
        "        mse = reconstruction_error(test[\"X1\"], test[\"X2\"])\n",
        "        print(f\"Тест {i}: {test['desc']} | MSE = {mse:.4f} | Ожидалось = {test['expected']:.4f}\")\n",
        "        assert abs(mse - test[\"expected\"]) < 1e-8, f\"Ошибка в тесте {i}\"\n",
        "\n",
        "    # Отдельно тест на ValueError при несовпадении размеров\n",
        "    try:\n",
        "        reconstruction_error(Matrix([[1, 2]]), Matrix([[1]]))\n",
        "        assert False, \"Ожидалось исключение для разных размеров\"\n",
        "    except ValueError as e:\n",
        "        print(f\"Тест {len(tests)+1}: Ошибка размеров — {str(e)}\")\n",
        "\n",
        "    print(\"\\n🎉 Все тесты успешно пройдены!\")"
      ],
      "metadata": {
        "id": "IS_VikgBiUQ1"
      },
      "execution_count": 208,
      "outputs": []
    },
    {
      "cell_type": "code",
      "source": [
        "test_reconstruction_error()"
      ],
      "metadata": {
        "colab": {
          "base_uri": "https://localhost:8080/"
        },
        "id": "uCOMGnTViVUj",
        "outputId": "660a52ac-509f-4463-bbb3-bb4df4ca5882"
      },
      "execution_count": 209,
      "outputs": [
        {
          "output_type": "stream",
          "name": "stdout",
          "text": [
            "Тест 1: Базовый случай | MSE = 0.0775 | Ожидалось = 0.0775\n",
            "Тест 2: Идеальное совпадение | MSE = 0.0000 | Ожидалось = 0.0000\n",
            "Тест 3: Отрицательные значения | MSE = 0.2500 | Ожидалось = 0.2500\n",
            "Тест 4: Ошибка размеров — X_orig и X_recon разные\n",
            "\n",
            "🎉 Все тесты успешно пройдены!\n"
          ]
        }
      ]
    },
    {
      "cell_type": "code",
      "source": [
        "def test_auto_select_k():\n",
        "    \"\"\"Проверка функции автоматического выбора числа компонент.\"\"\"\n",
        "\n",
        "    ev = [8.0, 4.0, 2.0, 1.0]\n",
        "    tests = [\n",
        "        (0.85, 3, \"Накопленная >= 0.85 → k=3\"),\n",
        "        (0.70, 2, \"Накопленная >= 0.70 → k=2\"),\n",
        "        (0.95, 4, \"Накопленная < 0.95 до конца → k=4\"),\n",
        "    ]\n",
        "\n",
        "    for i, (threshold, expected_k, desc) in enumerate(tests, 1):\n",
        "        k = auto_select_k(ev, threshold)\n",
        "        print(f\"Тест {i}: {desc} | Получено k={k}, ожидалось k={expected_k}\")\n",
        "        assert k == expected_k, f\"Ошибка: ожидалось k={expected_k}\"\n",
        "\n",
        "    # Проверка ошибки для пустого списка\n",
        "    try:\n",
        "        auto_select_k([], 0.9)\n",
        "        assert False, \"Ожидалось исключение для пустого списка\"\n",
        "    except ValueError as e:\n",
        "        print(f\"Тест {len(tests)+1}: Пустой список — ошибка поймана: {str(e)}\")\n",
        "\n",
        "    print(\"\\n🎉 Все тесты успешно пройдены!\")"
      ],
      "metadata": {
        "id": "DHgdrbUsifSU"
      },
      "execution_count": 211,
      "outputs": []
    },
    {
      "cell_type": "code",
      "source": [
        "test_auto_select_k()"
      ],
      "metadata": {
        "colab": {
          "base_uri": "https://localhost:8080/"
        },
        "id": "suQjgnyrifol",
        "outputId": "6df0259d-b582-4e2b-91a9-d2348a097a56"
      },
      "execution_count": 212,
      "outputs": [
        {
          "output_type": "stream",
          "name": "stdout",
          "text": [
            "Тест 1: Накопленная >= 0.85 → k=3 | Получено k=3, ожидалось k=3\n",
            "Тест 2: Накопленная >= 0.70 → k=2 | Получено k=2, ожидалось k=2\n",
            "Тест 3: Накопленная < 0.95 до конца → k=4 | Получено k=4, ожидалось k=4\n",
            "Тест 4: Пустой список — ошибка поймана: eigenvalues пуст.\n",
            "\n",
            "🎉 Все тесты успешно пройдены!\n"
          ]
        }
      ]
    },
    {
      "cell_type": "code",
      "source": [
        "def test_auto_select_k_function():\n",
        "    \"\"\"Тестирование функции auto_select_k.\"\"\"\n",
        "\n",
        "    tests = [\n",
        "        # (eigenvalues, threshold, expected k, description)\n",
        "        ([8.0, 4.0, 2.0, 1.0], 0.85, 3, \"Базовый случай\"),\n",
        "        ([8.0, 4.0, 2.0, 1.0], 0.70, 2, \"Порог ниже первой компоненты\"),\n",
        "        ([8.0, 4.0, 2.0, 1.0], 0.95, 4, \"Порог выше предпоследней компоненты\"),\n",
        "        ([10.0], 0.9, 1, \"Один элемент\"),\n",
        "    ]\n",
        "\n",
        "    for i, (ev, thresh, expected, desc) in enumerate(tests, 1):\n",
        "        result = auto_select_k(ev, thresh)\n",
        "        assert result == expected, f\"❌ Тест {i}: {desc} — ожидалось k={expected}, получено k={result}\"\n",
        "        print(f\"✅ Тест {i}: {desc} — k = {result}\")\n",
        "\n",
        "    # Тесты на ошибки\n",
        "    error_tests = [\n",
        "        ([], 0.9, \"Пустой список\"),\n",
        "        ([0.0, 0.0], 0.8, \"Нулевая сумма\"),\n",
        "    ]\n",
        "\n",
        "    for i, (ev, thresh, desc) in enumerate(error_tests, len(tests) + 1):\n",
        "        try:\n",
        "            auto_select_k(ev, thresh)\n",
        "            assert False, f\"❌ Тест {i}: {desc} — ожидалось исключение\"\n",
        "        except ValueError as e:\n",
        "            print(f\"✅ Тест {i}: {desc} — поймана ошибка: {str(e)}\")\n",
        "\n",
        "    print(\"\\n🎉 Все тесты функции auto_select_k пройдены!\")"
      ],
      "metadata": {
        "id": "l9JD-zaTinfC"
      },
      "execution_count": 219,
      "outputs": []
    },
    {
      "cell_type": "code",
      "source": [
        "test_auto_select_k_function()"
      ],
      "metadata": {
        "colab": {
          "base_uri": "https://localhost:8080/"
        },
        "id": "6GWjvGrMin48",
        "outputId": "d03e958a-9f98-4ad3-834e-052a76daaed3"
      },
      "execution_count": 220,
      "outputs": [
        {
          "output_type": "stream",
          "name": "stdout",
          "text": [
            "✅ Тест 1: Базовый случай — k = 3\n",
            "✅ Тест 2: Порог ниже первой компоненты — k = 2\n",
            "✅ Тест 3: Порог выше предпоследней компоненты — k = 4\n",
            "✅ Тест 4: Один элемент — k = 1\n",
            "✅ Тест 5: Пустой список — поймана ошибка: eigenvalues пуст.\n",
            "✅ Тест 6: Нулевая сумма — поймана ошибка: cумма собственных значений равна 0.\n",
            "\n",
            "🎉 Все тесты функции auto_select_k пройдены!\n"
          ]
        }
      ]
    },
    {
      "cell_type": "code",
      "source": [
        "def test_handle_missing_values():\n",
        "    \"\"\"Проверка заполнения пропущенных значений средним по столбцу.\"\"\"\n",
        "\n",
        "    data = [\n",
        "        [4.0, float('nan'), 8.0],\n",
        "        [float('nan'), 5.0, 9.0],\n",
        "        [6.0, 7.0, float('nan')]\n",
        "    ]\n",
        "\n",
        "    expected = [\n",
        "        [4.0, 6.0, 8.0],\n",
        "        [5.0, 5.0, 9.0],\n",
        "        [6.0, 7.0, 8.5]\n",
        "    ]\n",
        "\n",
        "    X_filled = handle_missing_values(Matrix(data))\n",
        "\n",
        "    for i in range(3):\n",
        "        for j in range(3):\n",
        "            val, exp = X_filled[i, j], expected[i][j]\n",
        "            assert abs(val - exp) < 1e-12, f\"({i},{j}): {val:.2f} ≠ {exp:.2f}\"\n",
        "\n",
        "    print(\"✅ Все пропущенные значения успешно заполнены.\")"
      ],
      "metadata": {
        "id": "VDd3fSdkjIFl"
      },
      "execution_count": 221,
      "outputs": []
    },
    {
      "cell_type": "code",
      "source": [
        "test_handle_missing_values()"
      ],
      "metadata": {
        "colab": {
          "base_uri": "https://localhost:8080/"
        },
        "id": "NV9y4wl7jJDy",
        "outputId": "db8a4792-cae1-4faa-fce1-7b53529d94df"
      },
      "execution_count": 222,
      "outputs": [
        {
          "output_type": "stream",
          "name": "stdout",
          "text": [
            "✅ Все пропущенные значения успешно заполнены.\n"
          ]
        }
      ]
    }
  ]
}